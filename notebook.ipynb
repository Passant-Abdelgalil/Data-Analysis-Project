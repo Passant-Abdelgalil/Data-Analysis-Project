{
 "cells": [
  {
   "cell_type": "markdown",
   "metadata": {},
   "source": [
    "# Introduction\n",
    "\n",
    "This data are for an electronics shop, it contains sales for year 2019, a csv file for each month\n",
    "each dataset cosists of 6 columns ['Order ID', 'Product', 'Quantity Ordered', 'Price Each', 'Order Date', 'Purchase Address']\n",
    "This notebook visualizes the data and answers some questions on the data provided"
   ]
  },
  {
   "cell_type": "markdown",
   "metadata": {},
   "source": [
    "# Installing Libraries"
   ]
  },
  {
   "cell_type": "code",
   "execution_count": 2,
   "metadata": {},
   "outputs": [],
   "source": [
    "# uncomment the line associated with any library you don't have\n",
    "\n",
    "#!pip3 install numpy -q\n",
    "#!pip3 install pandas -q\n",
    "#!pip3 install matplotlib -q\n",
    "#!pip3 install regex -q"
   ]
  },
  {
   "cell_type": "markdown",
   "metadata": {},
   "source": [
    "# Importing Libraries"
   ]
  },
  {
   "cell_type": "code",
   "execution_count": 3,
   "metadata": {},
   "outputs": [],
   "source": [
    "import pandas as pd\n",
    "import numpy as np\n",
    "import matplotlib as mpl\n",
    "import matplotlib.pyplot as plt\n",
    "import os\n",
    "import re\n",
    "%matplotlib inline"
   ]
  },
  {
   "cell_type": "markdown",
   "metadata": {},
   "source": [
    "# Reading Data\n",
    "\n",
    "Our data is divided into 12 csv files, one for each month\n",
    "\n",
    "We have to combine the files in one dataset so we can proceed with data exploration and analysis\n",
    "\n",
    "but first let's pick a file and investigate it a little to see if some preprocessings are needed before combining the files, I chose **Sales_March_2019.csv**"
   ]
  },
  {
   "cell_type": "code",
   "execution_count": 4,
   "metadata": {},
   "outputs": [
    {
     "data": {
      "text/html": [
       "<div>\n",
       "<style scoped>\n",
       "    .dataframe tbody tr th:only-of-type {\n",
       "        vertical-align: middle;\n",
       "    }\n",
       "\n",
       "    .dataframe tbody tr th {\n",
       "        vertical-align: top;\n",
       "    }\n",
       "\n",
       "    .dataframe thead th {\n",
       "        text-align: right;\n",
       "    }\n",
       "</style>\n",
       "<table border=\"1\" class=\"dataframe\">\n",
       "  <thead>\n",
       "    <tr style=\"text-align: right;\">\n",
       "      <th></th>\n",
       "      <th>Order ID</th>\n",
       "      <th>Product</th>\n",
       "      <th>Quantity Ordered</th>\n",
       "      <th>Price Each</th>\n",
       "      <th>Order Date</th>\n",
       "      <th>Purchase Address</th>\n",
       "    </tr>\n",
       "  </thead>\n",
       "  <tbody>\n",
       "    <tr>\n",
       "      <th>0</th>\n",
       "      <td>162009</td>\n",
       "      <td>iPhone</td>\n",
       "      <td>1</td>\n",
       "      <td>700</td>\n",
       "      <td>03/28/19 20:59</td>\n",
       "      <td>942 Church St, Austin, TX 73301</td>\n",
       "    </tr>\n",
       "    <tr>\n",
       "      <th>1</th>\n",
       "      <td>162009</td>\n",
       "      <td>Lightning Charging Cable</td>\n",
       "      <td>1</td>\n",
       "      <td>14.95</td>\n",
       "      <td>03/28/19 20:59</td>\n",
       "      <td>942 Church St, Austin, TX 73301</td>\n",
       "    </tr>\n",
       "    <tr>\n",
       "      <th>2</th>\n",
       "      <td>162009</td>\n",
       "      <td>Wired Headphones</td>\n",
       "      <td>2</td>\n",
       "      <td>11.99</td>\n",
       "      <td>03/28/19 20:59</td>\n",
       "      <td>942 Church St, Austin, TX 73301</td>\n",
       "    </tr>\n",
       "    <tr>\n",
       "      <th>3</th>\n",
       "      <td>162010</td>\n",
       "      <td>Bose SoundSport Headphones</td>\n",
       "      <td>1</td>\n",
       "      <td>99.99</td>\n",
       "      <td>03/17/19 05:39</td>\n",
       "      <td>261 10th St, San Francisco, CA 94016</td>\n",
       "    </tr>\n",
       "    <tr>\n",
       "      <th>4</th>\n",
       "      <td>162011</td>\n",
       "      <td>34in Ultrawide Monitor</td>\n",
       "      <td>1</td>\n",
       "      <td>379.99</td>\n",
       "      <td>03/10/19 00:01</td>\n",
       "      <td>764 13th St, San Francisco, CA 94016</td>\n",
       "    </tr>\n",
       "  </tbody>\n",
       "</table>\n",
       "</div>"
      ],
      "text/plain": [
       "  Order ID                     Product Quantity Ordered Price Each  \\\n",
       "0   162009                      iPhone                1        700   \n",
       "1   162009    Lightning Charging Cable                1      14.95   \n",
       "2   162009            Wired Headphones                2      11.99   \n",
       "3   162010  Bose SoundSport Headphones                1      99.99   \n",
       "4   162011      34in Ultrawide Monitor                1     379.99   \n",
       "\n",
       "       Order Date                      Purchase Address  \n",
       "0  03/28/19 20:59       942 Church St, Austin, TX 73301  \n",
       "1  03/28/19 20:59       942 Church St, Austin, TX 73301  \n",
       "2  03/28/19 20:59       942 Church St, Austin, TX 73301  \n",
       "3  03/17/19 05:39  261 10th St, San Francisco, CA 94016  \n",
       "4  03/10/19 00:01  764 13th St, San Francisco, CA 94016  "
      ]
     },
     "execution_count": 4,
     "metadata": {},
     "output_type": "execute_result"
    }
   ],
   "source": [
    "# read csv file and print first 5  rows\n",
    "march_df = pd.read_csv(\"./Sales_Data/Sales_March_2019.csv\")\n",
    "march_df.head()"
   ]
  },
  {
   "cell_type": "code",
   "execution_count": 5,
   "metadata": {},
   "outputs": [
    {
     "data": {
      "text/html": [
       "<div>\n",
       "<style scoped>\n",
       "    .dataframe tbody tr th:only-of-type {\n",
       "        vertical-align: middle;\n",
       "    }\n",
       "\n",
       "    .dataframe tbody tr th {\n",
       "        vertical-align: top;\n",
       "    }\n",
       "\n",
       "    .dataframe thead th {\n",
       "        text-align: right;\n",
       "    }\n",
       "</style>\n",
       "<table border=\"1\" class=\"dataframe\">\n",
       "  <thead>\n",
       "    <tr style=\"text-align: right;\">\n",
       "      <th></th>\n",
       "      <th>Order ID</th>\n",
       "      <th>Product</th>\n",
       "      <th>Quantity Ordered</th>\n",
       "      <th>Price Each</th>\n",
       "      <th>Order Date</th>\n",
       "      <th>Purchase Address</th>\n",
       "    </tr>\n",
       "  </thead>\n",
       "  <tbody>\n",
       "    <tr>\n",
       "      <th>341</th>\n",
       "      <td>162332</td>\n",
       "      <td>Flatscreen TV</td>\n",
       "      <td>1</td>\n",
       "      <td>300</td>\n",
       "      <td>03/20/19 14:23</td>\n",
       "      <td>925 10th St, Atlanta, GA 30301</td>\n",
       "    </tr>\n",
       "    <tr>\n",
       "      <th>864</th>\n",
       "      <td>Order ID</td>\n",
       "      <td>Product</td>\n",
       "      <td>Quantity Ordered</td>\n",
       "      <td>Price Each</td>\n",
       "      <td>Order Date</td>\n",
       "      <td>Purchase Address</td>\n",
       "    </tr>\n",
       "    <tr>\n",
       "      <th>930</th>\n",
       "      <td>Order ID</td>\n",
       "      <td>Product</td>\n",
       "      <td>Quantity Ordered</td>\n",
       "      <td>Price Each</td>\n",
       "      <td>Order Date</td>\n",
       "      <td>Purchase Address</td>\n",
       "    </tr>\n",
       "    <tr>\n",
       "      <th>1066</th>\n",
       "      <td>163018</td>\n",
       "      <td>AAA Batteries (4-pack)</td>\n",
       "      <td>1</td>\n",
       "      <td>2.99</td>\n",
       "      <td>03/17/19 14:10</td>\n",
       "      <td>694 Cedar St, Seattle, WA 98101</td>\n",
       "    </tr>\n",
       "    <tr>\n",
       "      <th>1542</th>\n",
       "      <td>NaN</td>\n",
       "      <td>NaN</td>\n",
       "      <td>NaN</td>\n",
       "      <td>NaN</td>\n",
       "      <td>NaN</td>\n",
       "      <td>NaN</td>\n",
       "    </tr>\n",
       "  </tbody>\n",
       "</table>\n",
       "</div>"
      ],
      "text/plain": [
       "      Order ID                 Product  Quantity Ordered  Price Each  \\\n",
       "341     162332           Flatscreen TV                 1         300   \n",
       "864   Order ID                 Product  Quantity Ordered  Price Each   \n",
       "930   Order ID                 Product  Quantity Ordered  Price Each   \n",
       "1066    163018  AAA Batteries (4-pack)                 1        2.99   \n",
       "1542       NaN                     NaN               NaN         NaN   \n",
       "\n",
       "          Order Date                 Purchase Address  \n",
       "341   03/20/19 14:23   925 10th St, Atlanta, GA 30301  \n",
       "864       Order Date                 Purchase Address  \n",
       "930       Order Date                 Purchase Address  \n",
       "1066  03/17/19 14:10  694 Cedar St, Seattle, WA 98101  \n",
       "1542             NaN                              NaN  "
      ]
     },
     "execution_count": 5,
     "metadata": {},
     "output_type": "execute_result"
    }
   ],
   "source": [
    "# check for duplicates\n",
    "march_df[march_df.duplicated()].head(5)"
   ]
  },
  {
   "cell_type": "code",
   "execution_count": 6,
   "metadata": {},
   "outputs": [
    {
     "name": "stdout",
     "output_type": "stream",
     "text": [
      "Number of rows with header values is 35\n",
      "Number of rows full with nans is 37\n"
     ]
    }
   ],
   "source": [
    "print(\"Number of rows with header values is {}\\nNumber of rows full with nans is {}\"\\\n",
    "      .format((march_df['Order ID']=='Order ID').sum()\\\n",
    "      ,sum([row.all() for row in march_df.isnull().values])))"
   ]
  },
  {
   "cell_type": "markdown",
   "metadata": {},
   "source": [
    "As we can see the data contains **duplicates** in addition to repeated **rows with header values** and **NaNs**\n",
    "\n",
    "so the files need some preprocessing before concatenation\n",
    "\n",
    "**first**: drop all rows full with NaNs\n",
    "\n",
    "**second**: drop rows repeated headers\n",
    "\n",
    "**third**: drop duplicates but keep one instance of them\n",
    "\n",
    "let's investigate another file to make sure all the data suffer from the same faults, if so I will apply the same processing steps on all the files"
   ]
  },
  {
   "cell_type": "code",
   "execution_count": 7,
   "metadata": {},
   "outputs": [
    {
     "data": {
      "text/html": [
       "<div>\n",
       "<style scoped>\n",
       "    .dataframe tbody tr th:only-of-type {\n",
       "        vertical-align: middle;\n",
       "    }\n",
       "\n",
       "    .dataframe tbody tr th {\n",
       "        vertical-align: top;\n",
       "    }\n",
       "\n",
       "    .dataframe thead th {\n",
       "        text-align: right;\n",
       "    }\n",
       "</style>\n",
       "<table border=\"1\" class=\"dataframe\">\n",
       "  <thead>\n",
       "    <tr style=\"text-align: right;\">\n",
       "      <th></th>\n",
       "      <th>Order ID</th>\n",
       "      <th>Product</th>\n",
       "      <th>Quantity Ordered</th>\n",
       "      <th>Price Each</th>\n",
       "      <th>Order Date</th>\n",
       "      <th>Purchase Address</th>\n",
       "    </tr>\n",
       "  </thead>\n",
       "  <tbody>\n",
       "    <tr>\n",
       "      <th>21</th>\n",
       "      <td>248171</td>\n",
       "      <td>USB-C Charging Cable</td>\n",
       "      <td>1</td>\n",
       "      <td>11.95</td>\n",
       "      <td>09/05/19 15:06</td>\n",
       "      <td>705 Hill St, New York City, NY 10001</td>\n",
       "    </tr>\n",
       "    <tr>\n",
       "      <th>574</th>\n",
       "      <td>NaN</td>\n",
       "      <td>NaN</td>\n",
       "      <td>NaN</td>\n",
       "      <td>NaN</td>\n",
       "      <td>NaN</td>\n",
       "      <td>NaN</td>\n",
       "    </tr>\n",
       "    <tr>\n",
       "      <th>658</th>\n",
       "      <td>248787</td>\n",
       "      <td>AA Batteries (4-pack)</td>\n",
       "      <td>1</td>\n",
       "      <td>3.84</td>\n",
       "      <td>09/09/19 12:30</td>\n",
       "      <td>705 Adams St, San Francisco, CA 94016</td>\n",
       "    </tr>\n",
       "    <tr>\n",
       "      <th>776</th>\n",
       "      <td>NaN</td>\n",
       "      <td>NaN</td>\n",
       "      <td>NaN</td>\n",
       "      <td>NaN</td>\n",
       "      <td>NaN</td>\n",
       "      <td>NaN</td>\n",
       "    </tr>\n",
       "    <tr>\n",
       "      <th>1383</th>\n",
       "      <td>NaN</td>\n",
       "      <td>NaN</td>\n",
       "      <td>NaN</td>\n",
       "      <td>NaN</td>\n",
       "      <td>NaN</td>\n",
       "      <td>NaN</td>\n",
       "    </tr>\n",
       "  </tbody>\n",
       "</table>\n",
       "</div>"
      ],
      "text/plain": [
       "     Order ID                Product Quantity Ordered Price Each  \\\n",
       "21     248171   USB-C Charging Cable                1      11.95   \n",
       "574       NaN                    NaN              NaN        NaN   \n",
       "658    248787  AA Batteries (4-pack)                1       3.84   \n",
       "776       NaN                    NaN              NaN        NaN   \n",
       "1383      NaN                    NaN              NaN        NaN   \n",
       "\n",
       "          Order Date                       Purchase Address  \n",
       "21    09/05/19 15:06   705 Hill St, New York City, NY 10001  \n",
       "574              NaN                                    NaN  \n",
       "658   09/09/19 12:30  705 Adams St, San Francisco, CA 94016  \n",
       "776              NaN                                    NaN  \n",
       "1383             NaN                                    NaN  "
      ]
     },
     "execution_count": 7,
     "metadata": {},
     "output_type": "execute_result"
    }
   ],
   "source": [
    "# read csv file and print first 5  rows\n",
    "september_df = pd.read_csv(\"./Sales_Data/Sales_September_2019.csv\")\n",
    "# check for duplicates\n",
    "september_df[september_df.duplicated()].head(5)"
   ]
  },
  {
   "cell_type": "code",
   "execution_count": 8,
   "metadata": {},
   "outputs": [
    {
     "name": "stdout",
     "output_type": "stream",
     "text": [
      "Number of rows with header values is 17\n",
      "Number of rows full with nans is 40\n"
     ]
    }
   ],
   "source": [
    "print(\"Number of rows with header values is {}\\nNumber of rows full with nans is {}\"\\\n",
    "      .format((september_df['Order ID']=='Order ID').sum()\\\n",
    "      ,sum([row.all() for row in september_df.isnull().values])))"
   ]
  },
  {
   "cell_type": "markdown",
   "metadata": {},
   "source": [
    " "
   ]
  },
  {
   "cell_type": "markdown",
   "metadata": {},
   "source": [
    "Another file that contains rows with header values in addition to duplicate rows and rows full with NaNs\n",
    "this could be due to something wrong happened while collecting data\n",
    "\n",
    "I will make a pipeline of preprocessing steps and apply it on each sub dataset before concatinating it with our big and final data frame"
   ]
  },
  {
   "cell_type": "markdown",
   "metadata": {},
   "source": [
    " "
   ]
  },
  {
   "cell_type": "code",
   "execution_count": 9,
   "metadata": {},
   "outputs": [],
   "source": [
    "def drop_NaN_rows(dataframe):\n",
    "    # drop rows if all entries are NaN\n",
    "    return dataframe.dropna(how = 'all')\n",
    "\n",
    "def drop_repeated_headers(dataframe):\n",
    "    # create a boolean mask to check for rows with header values\n",
    "    mask = (dataframe==dataframe.columns.values).all(1)\n",
    "    \n",
    "    # return the dataframe without these rows\n",
    "    return dataframe[~mask]\n",
    "\n",
    "def drop_duplicates(dataframe):\n",
    "    # drop duplicates but keep first instance\n",
    "    return dataframe.drop_duplicates(keep='first')\n",
    "\n",
    "def process_dataframe(dataframe):\n",
    "     return dataframe.pipe(drop_NaN_rows)\\\n",
    "        .pipe(drop_repeated_headers)\\\n",
    "        .pipe(drop_duplicates)"
   ]
  },
  {
   "cell_type": "code",
   "execution_count": 10,
   "metadata": {
    "scrolled": true
   },
   "outputs": [
    {
     "name": "stdout",
     "output_type": "stream",
     "text": [
      "Number of duplicates: 0\n",
      "Number of repeated headers: 0\n",
      "Number of NaN rows: 0\n"
     ]
    }
   ],
   "source": [
    "piped = process_dataframe(september_df)\n",
    "\n",
    "# check for successful processing\n",
    "print(\"Number of duplicates: {}\\nNumber of repeated headers: {}\\nNumber of NaN rows: {}\"\n",
    "     .format(piped.duplicated().sum()\\\n",
    "             ,(piped==piped.columns.values).all(1).sum()\\\n",
    "             , piped.isnull().all().sum())\n",
    "     )"
   ]
  },
  {
   "cell_type": "markdown",
   "metadata": {},
   "source": [
    " "
   ]
  },
  {
   "cell_type": "code",
   "execution_count": 12,
   "metadata": {},
   "outputs": [],
   "source": [
    "# check if the file already exists\n",
    "files = os.listdir('./Sales_Data')\n",
    "\n",
    "if 'data.csv' in files:\n",
    "    df = pd.read_csv('./Sales_Data/all_data.csv')\n",
    "else:\n",
    "    \n",
    "    # get names of dataset files of interest\n",
    "    regex = re.compile(\"Sales_.*_2019.csv\")\n",
    "    files = list(filter(regex.match, files))\n",
    "\n",
    "    # empty dataframe to concat the datasets\n",
    "    df = pd.DataFrame() \n",
    "\n",
    "    for file in files:\n",
    "        # read sub dataset\n",
    "        small_df = pd.read_csv('./Sales_Data/'+file)\n",
    "        \n",
    "        # process the dataset\n",
    "        small_df = process_dataframe(small_df)\n",
    "        \n",
    "        # extract month name : ex 'Sales_April_2019' => 'April'\n",
    "        small_df['month'] = re.findall(\"(?:_)(\\w+)(?:_)\",file)[0]\n",
    "        \n",
    "        # concat the read data with the previous ones\n",
    "        df = pd.concat([df, small_df], ignore_index=True)\n",
    "    \n",
    "    # store the combined datasets in a file for future runs\n",
    "    df.to_csv('./Sales_Data/data.csv', index=False)"
   ]
  },
  {
   "cell_type": "markdown",
   "metadata": {},
   "source": [
    "# Data Preprocessing\n",
    "\n",
    "Now after reading and concatinating all files, it's time to investiate the data and do some preprocessing if it's needed before making insights about our market data"
   ]
  },
  {
   "cell_type": "code",
   "execution_count": 13,
   "metadata": {},
   "outputs": [
    {
     "data": {
      "text/html": [
       "<div>\n",
       "<style scoped>\n",
       "    .dataframe tbody tr th:only-of-type {\n",
       "        vertical-align: middle;\n",
       "    }\n",
       "\n",
       "    .dataframe tbody tr th {\n",
       "        vertical-align: top;\n",
       "    }\n",
       "\n",
       "    .dataframe thead th {\n",
       "        text-align: right;\n",
       "    }\n",
       "</style>\n",
       "<table border=\"1\" class=\"dataframe\">\n",
       "  <thead>\n",
       "    <tr style=\"text-align: right;\">\n",
       "      <th></th>\n",
       "      <th>Order ID</th>\n",
       "      <th>Product</th>\n",
       "      <th>Quantity Ordered</th>\n",
       "      <th>Price Each</th>\n",
       "      <th>Order Date</th>\n",
       "      <th>Purchase Address</th>\n",
       "      <th>month</th>\n",
       "    </tr>\n",
       "  </thead>\n",
       "  <tbody>\n",
       "    <tr>\n",
       "      <th>0</th>\n",
       "      <td>162009</td>\n",
       "      <td>iPhone</td>\n",
       "      <td>1</td>\n",
       "      <td>700</td>\n",
       "      <td>03/28/19 20:59</td>\n",
       "      <td>942 Church St, Austin, TX 73301</td>\n",
       "      <td>March</td>\n",
       "    </tr>\n",
       "    <tr>\n",
       "      <th>1</th>\n",
       "      <td>162009</td>\n",
       "      <td>Lightning Charging Cable</td>\n",
       "      <td>1</td>\n",
       "      <td>14.95</td>\n",
       "      <td>03/28/19 20:59</td>\n",
       "      <td>942 Church St, Austin, TX 73301</td>\n",
       "      <td>March</td>\n",
       "    </tr>\n",
       "    <tr>\n",
       "      <th>2</th>\n",
       "      <td>162009</td>\n",
       "      <td>Wired Headphones</td>\n",
       "      <td>2</td>\n",
       "      <td>11.99</td>\n",
       "      <td>03/28/19 20:59</td>\n",
       "      <td>942 Church St, Austin, TX 73301</td>\n",
       "      <td>March</td>\n",
       "    </tr>\n",
       "    <tr>\n",
       "      <th>3</th>\n",
       "      <td>162010</td>\n",
       "      <td>Bose SoundSport Headphones</td>\n",
       "      <td>1</td>\n",
       "      <td>99.99</td>\n",
       "      <td>03/17/19 05:39</td>\n",
       "      <td>261 10th St, San Francisco, CA 94016</td>\n",
       "      <td>March</td>\n",
       "    </tr>\n",
       "    <tr>\n",
       "      <th>4</th>\n",
       "      <td>162011</td>\n",
       "      <td>34in Ultrawide Monitor</td>\n",
       "      <td>1</td>\n",
       "      <td>379.99</td>\n",
       "      <td>03/10/19 00:01</td>\n",
       "      <td>764 13th St, San Francisco, CA 94016</td>\n",
       "      <td>March</td>\n",
       "    </tr>\n",
       "  </tbody>\n",
       "</table>\n",
       "</div>"
      ],
      "text/plain": [
       "  Order ID                     Product Quantity Ordered Price Each  \\\n",
       "0   162009                      iPhone                1        700   \n",
       "1   162009    Lightning Charging Cable                1      14.95   \n",
       "2   162009            Wired Headphones                2      11.99   \n",
       "3   162010  Bose SoundSport Headphones                1      99.99   \n",
       "4   162011      34in Ultrawide Monitor                1     379.99   \n",
       "\n",
       "       Order Date                      Purchase Address  month  \n",
       "0  03/28/19 20:59       942 Church St, Austin, TX 73301  March  \n",
       "1  03/28/19 20:59       942 Church St, Austin, TX 73301  March  \n",
       "2  03/28/19 20:59       942 Church St, Austin, TX 73301  March  \n",
       "3  03/17/19 05:39  261 10th St, San Francisco, CA 94016  March  \n",
       "4  03/10/19 00:01  764 13th St, San Francisco, CA 94016  March  "
      ]
     },
     "execution_count": 13,
     "metadata": {},
     "output_type": "execute_result"
    }
   ],
   "source": [
    "# display first 5 rows to get an idea about the data\n",
    "df.head()"
   ]
  },
  {
   "cell_type": "code",
   "execution_count": 14,
   "metadata": {},
   "outputs": [
    {
     "name": "stdout",
     "output_type": "stream",
     "text": [
      "<class 'pandas.core.frame.DataFrame'>\n",
      "RangeIndex: 185686 entries, 0 to 185685\n",
      "Data columns (total 7 columns):\n",
      " #   Column            Non-Null Count   Dtype \n",
      "---  ------            --------------   ----- \n",
      " 0   Order ID          185686 non-null  object\n",
      " 1   Product           185686 non-null  object\n",
      " 2   Quantity Ordered  185686 non-null  object\n",
      " 3   Price Each        185686 non-null  object\n",
      " 4   Order Date        185686 non-null  object\n",
      " 5   Purchase Address  185686 non-null  object\n",
      " 6   month             185686 non-null  object\n",
      "dtypes: object(7)\n",
      "memory usage: 9.9+ MB\n"
     ]
    }
   ],
   "source": [
    "# display information about our dataframe\n",
    "df.info()"
   ]
  },
  {
   "cell_type": "markdown",
   "metadata": {},
   "source": [
    " "
   ]
  },
  {
   "cell_type": "markdown",
   "metadata": {},
   "source": [
    "Dataframe **info** function provides us with information that helps to know more about column types in the dataframe in addition to know if there is any NaNs by comparing number of index entries found at the second line and number of Non-Null entries for each column\n",
    "\n",
    "From the output it's obvious that:\n",
    "\n",
    "* Some columns should have types of **int** or **float** but their type is **object** (string) instead, like: **Quantity Ordered** and **Price Each**\n",
    "\n",
    "* Also **Order Date** should have datetime type so we can benefit from python datetime module\n",
    "\n",
    "\n",
    "* For **Purchase Address** there is a lot of information in the address so it might be a good idea to extract **Street**, **State** and **City** from the address and use them in further analysis later\n",
    "\n",
    "Also it might be more handy to create a new column represents total cost of the order by multiplying the two columns `Price Each` and `Quantity Ordered`, since dealing with total price is more logical"
   ]
  },
  {
   "cell_type": "markdown",
   "metadata": {},
   "source": [
    " "
   ]
  },
  {
   "cell_type": "code",
   "execution_count": 18,
   "metadata": {},
   "outputs": [],
   "source": [
    "# Quantity Ordered should be integer \n",
    "df['Quantity Ordered'] = df['Quantity Ordered'].astype('int')\n",
    "\n",
    "# for Price Each it has some values with floating point\n",
    "# so it's better to change its type to float instead\n",
    "df['Price Each'] = df['Price Each'].astype('float')\n",
    "\n",
    "# chang Order Date column to datetime\n",
    "df['Order Date'] = pd.to_datetime(df['Order Date'])\n",
    "\n",
    "\n",
    "# Address consists mainly of three groups [street, state, city abbreviation]\n",
    "# I used regex module to build a regex with comments for better understanding\n",
    "# to capture only these three groups\n",
    "regx = re.compile(r\"\"\"\n",
    "           (?:\\d+\\s*)       # building number, we are not interested in it\n",
    "           (?P<street>.*St) # Street Name\n",
    "           (?:,\\s*)         # remove ',' with any spacing\n",
    "           (?P<state>.*)    # State Name\n",
    "           (?:,\\s*)         # remove ',' with any spacing\n",
    "           (?P<city>\\w{2})  # City abbreviation\n",
    "           \"\"\", re.X)\n",
    "\n",
    "# applying the regex\n",
    "decoded_address = df['Purchase Address'].str.extract(regx)\n",
    "\n",
    "# add the new columns to our dataframe\n",
    "df = pd.concat([df, decoded_address], axis = 1)\n",
    "\n",
    "# create the new column `total cost`\n",
    "df['Total Cost'] = df['Quantity Ordered'] * df['Price Each']"
   ]
  },
  {
   "cell_type": "code",
   "execution_count": 20,
   "metadata": {},
   "outputs": [
    {
     "data": {
      "text/html": [
       "<div>\n",
       "<style scoped>\n",
       "    .dataframe tbody tr th:only-of-type {\n",
       "        vertical-align: middle;\n",
       "    }\n",
       "\n",
       "    .dataframe tbody tr th {\n",
       "        vertical-align: top;\n",
       "    }\n",
       "\n",
       "    .dataframe thead th {\n",
       "        text-align: right;\n",
       "    }\n",
       "</style>\n",
       "<table border=\"1\" class=\"dataframe\">\n",
       "  <thead>\n",
       "    <tr style=\"text-align: right;\">\n",
       "      <th></th>\n",
       "      <th>Order ID</th>\n",
       "      <th>Product</th>\n",
       "      <th>Quantity Ordered</th>\n",
       "      <th>Price Each</th>\n",
       "      <th>Order Date</th>\n",
       "      <th>Purchase Address</th>\n",
       "      <th>month</th>\n",
       "      <th>street</th>\n",
       "      <th>state</th>\n",
       "      <th>city</th>\n",
       "      <th>street</th>\n",
       "      <th>state</th>\n",
       "      <th>city</th>\n",
       "      <th>Total Cost</th>\n",
       "    </tr>\n",
       "  </thead>\n",
       "  <tbody>\n",
       "    <tr>\n",
       "      <th>0</th>\n",
       "      <td>162009</td>\n",
       "      <td>iPhone</td>\n",
       "      <td>1</td>\n",
       "      <td>700.00</td>\n",
       "      <td>2019-03-28 20:59:00</td>\n",
       "      <td>942 Church St, Austin, TX 73301</td>\n",
       "      <td>March</td>\n",
       "      <td>Church St</td>\n",
       "      <td>Austin</td>\n",
       "      <td>TX</td>\n",
       "      <td>Church St</td>\n",
       "      <td>Austin</td>\n",
       "      <td>TX</td>\n",
       "      <td>700.00</td>\n",
       "    </tr>\n",
       "    <tr>\n",
       "      <th>1</th>\n",
       "      <td>162009</td>\n",
       "      <td>Lightning Charging Cable</td>\n",
       "      <td>1</td>\n",
       "      <td>14.95</td>\n",
       "      <td>2019-03-28 20:59:00</td>\n",
       "      <td>942 Church St, Austin, TX 73301</td>\n",
       "      <td>March</td>\n",
       "      <td>Church St</td>\n",
       "      <td>Austin</td>\n",
       "      <td>TX</td>\n",
       "      <td>Church St</td>\n",
       "      <td>Austin</td>\n",
       "      <td>TX</td>\n",
       "      <td>14.95</td>\n",
       "    </tr>\n",
       "    <tr>\n",
       "      <th>2</th>\n",
       "      <td>162009</td>\n",
       "      <td>Wired Headphones</td>\n",
       "      <td>2</td>\n",
       "      <td>11.99</td>\n",
       "      <td>2019-03-28 20:59:00</td>\n",
       "      <td>942 Church St, Austin, TX 73301</td>\n",
       "      <td>March</td>\n",
       "      <td>Church St</td>\n",
       "      <td>Austin</td>\n",
       "      <td>TX</td>\n",
       "      <td>Church St</td>\n",
       "      <td>Austin</td>\n",
       "      <td>TX</td>\n",
       "      <td>23.98</td>\n",
       "    </tr>\n",
       "    <tr>\n",
       "      <th>3</th>\n",
       "      <td>162010</td>\n",
       "      <td>Bose SoundSport Headphones</td>\n",
       "      <td>1</td>\n",
       "      <td>99.99</td>\n",
       "      <td>2019-03-17 05:39:00</td>\n",
       "      <td>261 10th St, San Francisco, CA 94016</td>\n",
       "      <td>March</td>\n",
       "      <td>10th St</td>\n",
       "      <td>San Francisco</td>\n",
       "      <td>CA</td>\n",
       "      <td>10th St</td>\n",
       "      <td>San Francisco</td>\n",
       "      <td>CA</td>\n",
       "      <td>99.99</td>\n",
       "    </tr>\n",
       "    <tr>\n",
       "      <th>4</th>\n",
       "      <td>162011</td>\n",
       "      <td>34in Ultrawide Monitor</td>\n",
       "      <td>1</td>\n",
       "      <td>379.99</td>\n",
       "      <td>2019-03-10 00:01:00</td>\n",
       "      <td>764 13th St, San Francisco, CA 94016</td>\n",
       "      <td>March</td>\n",
       "      <td>13th St</td>\n",
       "      <td>San Francisco</td>\n",
       "      <td>CA</td>\n",
       "      <td>13th St</td>\n",
       "      <td>San Francisco</td>\n",
       "      <td>CA</td>\n",
       "      <td>379.99</td>\n",
       "    </tr>\n",
       "  </tbody>\n",
       "</table>\n",
       "</div>"
      ],
      "text/plain": [
       "  Order ID                     Product  Quantity Ordered  Price Each  \\\n",
       "0   162009                      iPhone                 1      700.00   \n",
       "1   162009    Lightning Charging Cable                 1       14.95   \n",
       "2   162009            Wired Headphones                 2       11.99   \n",
       "3   162010  Bose SoundSport Headphones                 1       99.99   \n",
       "4   162011      34in Ultrawide Monitor                 1      379.99   \n",
       "\n",
       "           Order Date                      Purchase Address  month     street  \\\n",
       "0 2019-03-28 20:59:00       942 Church St, Austin, TX 73301  March  Church St   \n",
       "1 2019-03-28 20:59:00       942 Church St, Austin, TX 73301  March  Church St   \n",
       "2 2019-03-28 20:59:00       942 Church St, Austin, TX 73301  March  Church St   \n",
       "3 2019-03-17 05:39:00  261 10th St, San Francisco, CA 94016  March    10th St   \n",
       "4 2019-03-10 00:01:00  764 13th St, San Francisco, CA 94016  March    13th St   \n",
       "\n",
       "           state city     street          state city  Total Cost  \n",
       "0         Austin   TX  Church St         Austin   TX      700.00  \n",
       "1         Austin   TX  Church St         Austin   TX       14.95  \n",
       "2         Austin   TX  Church St         Austin   TX       23.98  \n",
       "3  San Francisco   CA    10th St  San Francisco   CA       99.99  \n",
       "4  San Francisco   CA    13th St  San Francisco   CA      379.99  "
      ]
     },
     "execution_count": 20,
     "metadata": {},
     "output_type": "execute_result"
    }
   ],
   "source": [
    "# let's have a final look on the dataframe before proceeding with Data Exploration\n",
    "df.head()"
   ]
  },
  {
   "cell_type": "markdown",
   "metadata": {},
   "source": [
    "# Data Exploration"
   ]
  },
  {
   "cell_type": "markdown",
   "metadata": {},
   "source": [
    "## Q1: What was the best month for sales"
   ]
  },
  {
   "cell_type": "code",
   "execution_count": null,
   "metadata": {},
   "outputs": [],
   "source": [
    "# Now we are ready to go\n",
    "# I will do it by calculating the average sales for each month and draw a histogram to visualize it\n",
    "\n",
    "means = df.groupby('months')['sales'].agg('sum')\n",
    "# Let's sort the values by the order of months \n",
    "means = means.reindex(['January', 'February', 'March', 'April', 'May', 'June', 'July', 'August', 'September',\n",
    "               'October', 'November', 'December'])\n",
    "\n",
    "plt.figure(figsize = (10,5))\n",
    "plt.plot(means)\n",
    "plt.xticks(rotation = 15)\n",
    "plt.title(\"Months Total sales\")\n",
    "plt.xlabel(\"Months\")\n",
    "plt.ylabel(\"sales\")\n",
    "plt.grid()\n",
    "plt.legend(['Total Sales'])\n",
    "plt.show()"
   ]
  },
  {
   "cell_type": "markdown",
   "metadata": {},
   "source": [
    "So according to the line plot above, the best month for sales was December with total sales of more than 4,500,000$\n",
    "we also can see the trend in the sales, total sales was increasing starting from January till April, then started decreasing till it reached the least amount in September, and then started to increase again with the best sales to be in December"
   ]
  },
  {
   "cell_type": "markdown",
   "metadata": {},
   "source": [
    "## Q1: What City had the highest number of sales?"
   ]
  },
  {
   "cell_type": "code",
   "execution_count": null,
   "metadata": {},
   "outputs": [],
   "source": [
    "plt.figure(figsize = (10,5))\n",
    "\n",
    "num_sales = df.groupby('city')['Order ID'].agg('count').plot(kind = 'bar')\n",
    "plt.xticks(rotation = 25)\n",
    "plt.title(\"Cities Total Orders\")\n",
    "plt.xlabel(\"Cities\")\n",
    "plt.ylabel(\"number of Orders\")\n",
    "plt.legend([\"Orders\"])\n",
    "plt.show()"
   ]
  },
  {
   "cell_type": "markdown",
   "metadata": {},
   "source": [
    "So the data we have contains orders for few unique Cities shown in the graph above\n",
    "The City with the largest number of orders was San Francisco with more than 40000 orders, then Los Angeles with almost 30000 orders, etc.\n",
    "Since this data is for electronics shop, it could be used to know in what cities the shop should have more branches to meet the market needs"
   ]
  },
  {
   "cell_type": "markdown",
   "metadata": {},
   "source": [
    "## Q3: For each month, what is the most sold product"
   ]
  },
  {
   "cell_type": "code",
   "execution_count": null,
   "metadata": {},
   "outputs": [],
   "source": [
    "# most sold product in each month\n",
    "products = df.groupby('months')['Product'].value_counts().unstack()"
   ]
  },
  {
   "cell_type": "code",
   "execution_count": null,
   "metadata": {
    "scrolled": false
   },
   "outputs": [],
   "source": [
    "idx = 0\n",
    "for idx in range(12):\n",
    "    products.loc[products.index[idx], :].plot(kind = 'bar')\n",
    "    plt.title(products.index[idx]+\" Products\")\n",
    "    plt.show()"
   ]
  },
  {
   "cell_type": "markdown",
   "metadata": {},
   "source": [
    "## Q3: What time should the shop display advertisments to maximize liklihood of cutomer's buying products?"
   ]
  },
  {
   "cell_type": "code",
   "execution_count": null,
   "metadata": {},
   "outputs": [],
   "source": [
    "# for this question we create new column 'Hour' represents the hour the order was made\n",
    "df['Hour'] = df['Order Date'].dt.hour\n",
    "df.head()"
   ]
  },
  {
   "cell_type": "code",
   "execution_count": null,
   "metadata": {},
   "outputs": [],
   "source": [
    "plt.figure(figsize=(10,5))\n",
    "hours = df.groupby('Hour').groups.keys()\n",
    "plt.plot(hours, df.groupby(['Hour']).count())\n",
    "plt.xticks(list(hours))\n",
    "plt.xlabel(\"Hours\")\n",
    "plt.ylabel(\"Number of Orders\")\n",
    "plt.title(\"Number of Orders for each hour of the day\")\n",
    "plt.grid()\n",
    "plt.legend(['Number of Orders'])\n",
    "plt.show()"
   ]
  },
  {
   "cell_type": "markdown",
   "metadata": {},
   "source": [
    "The Hour column values are in 24-hour format, so 0 means 12:00 AM and 23 means 11:00 PM in 12-hour format\n",
    "starting from 3:00 AM the customers often buy orders will 12:00 PM then number of orders decrease a little but then returned to increase till it's the maximum at 7:00 PM then it decreases\n",
    "I can feel the trend in the data and the correlation between it and the work hours of the day\n",
    "so the graph shows that if the shop website would display advertisments, it would be better to be at 7:00 PM since it's the time with maximum number of orders."
   ]
  },
  {
   "cell_type": "markdown",
   "metadata": {},
   "source": [
    "## Q4: What Products are most often sold together?"
   ]
  },
  {
   "cell_type": "code",
   "execution_count": null,
   "metadata": {},
   "outputs": [],
   "source": [
    "# each order has Order ID, so I someone ordered more than one product at the same time, those products will have\n",
    "# the same Order ID number, so to answer this question we will group the data by Order ID then count for each pair\n",
    "# how often it was ordered\n",
    "\n",
    "same_ordered = df[df['Order ID'].duplicated(keep = False)]"
   ]
  },
  {
   "cell_type": "code",
   "execution_count": null,
   "metadata": {},
   "outputs": [],
   "source": [
    "# Create new Column Grouped to store products in the same order by joining them with ','\n",
    "same_ordered['Grouped'] = same_ordered.groupby('Order ID')['Product'].transform(lambda x: ','.join(x))\n",
    "\n",
    "# now due to the new column we created in the dataframe, the Grouped values are repeated for each order in each group\n",
    "# so we need to drop duplicates to avoid misleading results\n",
    "\n",
    "grouped = same_ordered[['Order ID', 'Grouped']].drop_duplicates()\n",
    "grouped.head(7)"
   ]
  },
  {
   "cell_type": "code",
   "execution_count": null,
   "metadata": {},
   "outputs": [],
   "source": [
    "# To answer the question, I will use combinations to create combinations of k {for the sake of this question, k = 2}\n",
    "# and use Counter to count number of occurrences of these combinations.\n",
    "\n",
    "from itertools import combinations\n",
    "from collections import Counter\n",
    "\n",
    "count = Counter()\n",
    "\n",
    "for row in grouped['Grouped']:\n",
    "    row_list = row.split(',') # list of products for each Order\n",
    "    count.update(Counter(combinations(row_list, 2))) # update the counter of the combinations of the products\n",
    "    \n",
    "for key, value in count.most_common(10):\n",
    "    print(key,\"Occurred \", str(value)+\" time\")"
   ]
  },
  {
   "cell_type": "code",
   "execution_count": null,
   "metadata": {
    "scrolled": true
   },
   "outputs": [],
   "source": [
    "top10 = count.most_common(10)\n",
    "values = list([top10[i][1] for i in range(10)])\n",
    "ticks = list([top10[i][0] for i in range(10)])\n",
    "#plt.bar(ticks, values)"
   ]
  },
  {
   "cell_type": "code",
   "execution_count": null,
   "metadata": {},
   "outputs": [],
   "source": [
    "# What product sold the most? Why do you think it's sold the most?\n",
    "\n",
    "df.head()"
   ]
  },
  {
   "cell_type": "code",
   "execution_count": null,
   "metadata": {},
   "outputs": [],
   "source": [
    "product_group = df.groupby('Product')\n",
    "quntity_ordered = product_group.sum()['Quantity Ordered']\n",
    "prices = df.groupby('Product').mean()['Price Each']\n"
   ]
  },
  {
   "cell_type": "code",
   "execution_count": null,
   "metadata": {},
   "outputs": [],
   "source": [
    "fig, ax1 = plt.subplots(figsize = (10,5))\n",
    "ax2 = ax1.twinx()\n",
    "quntity_ordered.plot(kind = 'bar', ax = ax1)\n",
    "prices.plot(ax = ax2, color = 'r')\n",
    "ax1.set_ylabel(\"Count\")\n",
    "ax2.set_ylabel(\"Price\")\n",
    "plt.title(\"Quantity Ordered for each Product\")\n",
    "ax2.legend()\n",
    "plt.show()"
   ]
  },
  {
   "cell_type": "code",
   "execution_count": null,
   "metadata": {},
   "outputs": [],
   "source": []
  }
 ],
 "metadata": {
  "kernelspec": {
   "display_name": "Python 3",
   "language": "python",
   "name": "python3"
  },
  "language_info": {
   "codemirror_mode": {
    "name": "ipython",
    "version": 3
   },
   "file_extension": ".py",
   "mimetype": "text/x-python",
   "name": "python",
   "nbconvert_exporter": "python",
   "pygments_lexer": "ipython3",
   "version": "3.6.9"
  }
 },
 "nbformat": 4,
 "nbformat_minor": 4
}
